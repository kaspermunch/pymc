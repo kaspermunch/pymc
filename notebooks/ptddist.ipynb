{
 "cells": [
  {
   "cell_type": "code",
   "execution_count": 63,
   "id": "0f562cd8-e139-4154-8614-52d32fa9660f",
   "metadata": {},
   "outputs": [],
   "source": [
    "import numpy as np\n",
    "import pymc as pm\n",
    "from pymc.distributions.continuous import PositiveContinuous\n",
    "from pymc.distributions.dist_math import check_parameters\n",
    "from pymc.distributions.shape_utils import rv_size_is_none\n",
    "from pymc.distributions.distribution import moment\n",
    "import pytensor.tensor as pt\n",
    "from pytensor.tensor.var import TensorVariable\n",
    "from pytensor.tensor.random.op import RandomVariable\n",
    "from typing import List, Tuple\n",
    "import scipy \n",
    "import matplotlib.pyplot as plt\n"
   ]
  },
  {
   "cell_type": "markdown",
   "id": "2fd27dc0-5c64-42dd-94e5-98c457134bb2",
   "metadata": {},
   "source": [
    "## Create random variable\n",
    "\n",
    "Create a HalfCauchyRV random variable from the numpy implementation"
   ]
  },
  {
   "cell_type": "code",
   "execution_count": null,
   "id": "0cb1de30-6598-4418-b63c-0bfa4e58e479",
   "metadata": {},
   "outputs": [],
   "source": [
    "# Create your own `RandomVariable`...\n",
    "class HalfCauchyRV(RandomVariable):\n",
    "    name: str = \"blah\"\n",
    "\n",
    "    # Provide the minimum number of (output) dimensions for this RV\n",
    "    # (e.g. `0` for a scalar, `1` for a vector, etc.)\n",
    "    ndim_supp: int = 0\n",
    "\n",
    "    # Provide the number of (input) dimensions for each parameter of the RV\n",
    "    # (e.g. if there's only one vector parameter, `[1]`; for two parameters,\n",
    "    # one a matrix and the other a scalar, `[2, 0]`; etc.)\n",
    "    ndims_params: List[int] = [0, 0]\n",
    "\n",
    "    # The NumPy/PyTensor dtype for this RV (e.g. `\"int32\"`, `\"int64\"`).\n",
    "    # The standard in the library is `\"int64\"` for discrete variables\n",
    "    # and `\"floatX\"` for continuous variables\n",
    "    dtype: str = \"floatX\"\n",
    "\n",
    "    # A pretty text and LaTeX representation for the RV\n",
    "    _print_name: Tuple[str, str] = (\"blah\", \"\\\\operatorname{blah}\")\n",
    "\n",
    "    # If you want to add a custom signature and default values for the\n",
    "    # parameters, do it like this. Otherwise this can be left out.\n",
    "    def __call__(self, loc=0.0, scale=1.0, **kwargs) -> TensorVariable:\n",
    "        return super().__call__(loc, scale, **kwargs)\n",
    "\n",
    "    # This is the Python code that produces samples.  Its signature will always\n",
    "    # start with a NumPy `RandomState` object, then the distribution\n",
    "    # parameters, and, finally, the size.\n",
    "\n",
    "    @classmethod\n",
    "    def rng_fn(\n",
    "        cls,\n",
    "        rng: np.random.RandomState,\n",
    "        loc: np.ndarray,\n",
    "        scale: np.ndarray,\n",
    "        size: Tuple[int, ...],\n",
    "    ) -> np.ndarray:\n",
    "        return scipy.stats.halfcauchy.rvs(loc, scale, random_state=rng, size=size)\n",
    "\n",
    "# Create the actual `RandomVariable` `Op`...\n",
    "hc_rv = HalfCauchyRV()"
   ]
  },
  {
   "cell_type": "markdown",
   "id": "9b731fc5-16a3-476e-a38c-833766bcb935",
   "metadata": {},
   "source": [
    "## Test random sampling"
   ]
  },
  {
   "cell_type": "markdown",
   "id": "44a8c816-6609-4d87-8e69-79ee3ae8372d",
   "metadata": {},
   "source": [
    "Multiple calls with the same seed should return the same values."
   ]
  },
  {
   "cell_type": "code",
   "execution_count": 54,
   "id": "31fe75b0-352e-4892-9093-b1c29a74a12a",
   "metadata": {},
   "outputs": [
    {
     "data": {
      "text/plain": [
       "array([[1.95527438, 0.56180544],\n",
       "       [1.60411159, 1.10033743],\n",
       "       [0.15333412, 6.59603638],\n",
       "       [0.24173997, 8.0168286 ],\n",
       "       [0.91572887, 1.1884647 ],\n",
       "       [0.55972958, 0.32763814],\n",
       "       [2.62723581, 0.09575569],\n",
       "       [0.58074269, 0.73146759],\n",
       "       [3.07930367, 2.12866425],\n",
       "       [1.58703346, 0.89709058]])"
      ]
     },
     "execution_count": 54,
     "metadata": {},
     "output_type": "execute_result"
    }
   ],
   "source": [
    "# multiple calls with the same seed should return the same values\n",
    "pm.draw(hc_rv([0, 0], [1, 2],size=(10, 2)), random_seed=1)"
   ]
  },
  {
   "cell_type": "markdown",
   "id": "293234b9-b0a8-4c33-920f-23013735502d",
   "metadata": {},
   "source": [
    "Didstribution looks ok:"
   ]
  },
  {
   "cell_type": "code",
   "execution_count": 96,
   "id": "054856bd-2fa9-4751-835e-2930660d3677",
   "metadata": {},
   "outputs": [
    {
     "data": {
      "image/png": "[encoded data removed]",
      "text/plain": [
       "<Figure size 640x480 with 1 Axes>"
      ]
     },
     "metadata": {},
     "output_type": "display_data"
    }
   ],
   "source": [
    "bins = np.linspace(0, 5000, 30)\n",
    "plt.hist(pm.draw(pm.HalfCauchy.dist(1, 1, size=1000000)), bins=bins)\n",
    "plt.hist(pm.draw(hc_rv(1, 1, size=1000000)), bins=bins, alpha=0.3)\n",
    "plt.xlim(0, 5000)\n",
    "plt.yscale('log')"
   ]
  },
  {
   "cell_type": "code",
   "execution_count": 18,
   "id": "563de375-2ea7-4034-9d81-ef24814a5ce5",
   "metadata": {},
   "outputs": [],
   "source": [
    "# Subclassing `PositiveContinuous` will dispatch a default `log` transformation\n",
    "class HalfCauchy(PositiveContinuous):\n",
    "    # This will be used by the metaclass `DistributionMeta` to dispatch the\n",
    "    # class `logp` and `logcdf` methods to the `blah` `Op` defined in the last line of the code above.\n",
    "    rv_op = hc_rv\n",
    "\n",
    "    # dist() is responsible for returning an instance of the rv_op.\n",
    "    # We pass the standard parametrizations to super().dist\n",
    "    @classmethod\n",
    "    def dist(cls, param1, param2=None, alt_param2=None, **kwargs):\n",
    "        param1 = pt.as_tensor_variable(param1)\n",
    "        if param2 is not None and alt_param2 is not None:\n",
    "            raise ValueError(\"Only one of param2 and alt_param2 is allowed.\")\n",
    "        if alt_param2 is not None:\n",
    "            param2 = 1 / alt_param2\n",
    "        param2 = pt.as_tensor_variable(param2)\n",
    "\n",
    "        # The first value-only argument should be a list of the parameters that\n",
    "        # the rv_op needs in order to be instantiated\n",
    "        return super().dist([param1, param2], **kwargs)\n",
    "\n",
    "    \n",
    "    # moment returns a symbolic expression for the stable moment from which to start sampling\n",
    "    # the variable, given the implicit `rv`, `size` and `param1` ... `paramN`.\n",
    "    # This is typically a \"representative\" point such as the the mean or mode.\n",
    "    def moment(rv, size, param1, param2):\n",
    "        moment, _ = pt.broadcast_arrays(param1, param2)\n",
    "        if not rv_size_is_none(size):\n",
    "            moment = pt.full(size, moment)\n",
    "        return moment\n",
    "\n",
    "    # Logp returns a symbolic expression for the elementwise log-pdf or log-pmf evaluation\n",
    "    # of the variable given the `value` of the variable and the parameters `param1` ... `paramN`.\n",
    "    def logp(value, param1, param2):\n",
    "        # logp_expression = value * (param1 + pt.log(param2))\n",
    "        logp_expression = pm.logp(pm.HalfCauchy.dist(param1, param2), value)\n",
    "        \n",
    "        # # A switch is often used to enforce the distribution support domain\n",
    "        # bounded_logp_expression = pt.switch(\n",
    "        #     # pt.gt(value >= 0),\n",
    "        #     pt.gt(value, 0),\n",
    "        #     logp_expression,\n",
    "        #     -np.inf,\n",
    "        # )\n",
    "        bounded_logp_expression = logp_expression\n",
    "        \n",
    "        # We use `check_parameters` for parameter validation. After the default expression,\n",
    "        # multiple comma-separated symbolic conditions can be added.\n",
    "        # Whenever a bound is invalidated, the returned expression raises an error\n",
    "        # with the message defined in the optional `msg` keyword argument.\n",
    "        return check_parameters(\n",
    "            bounded_logp_expression,\n",
    "            param2 >= 0,\n",
    "            msg=\"param2 >= 0\",\n",
    "        )\n",
    "\n",
    "    # # logcdf works the same way as logp. For bounded variables, it is expected to return\n",
    "    # # `-inf` for values below the domain start and `0` for values above the domain end.\n",
    "    # def logcdf(value, param1, param2):\n",
    "    #     ...\n",
    "        \n",
    "    # def icdf(value, param1, param2):\n",
    "    #     ..."
   ]
  },
  {
   "cell_type": "code",
   "execution_count": 49,
   "id": "6bd88f67-44bc-4162-bce6-27b396820aee",
   "metadata": {},
   "outputs": [
    {
     "data": {
      "text/plain": [
       "array(2.95527438)"
      ]
     },
     "execution_count": 49,
     "metadata": {},
     "output_type": "execute_result"
    }
   ],
   "source": [
    "\n",
    "hc = HalfCauchy.dist(param1=1, param2=1)\n",
    "pm.draw(hc, random_seed=1)"
   ]
  },
  {
   "cell_type": "code",
   "execution_count": 50,
   "id": "fd262d26-a72a-486b-8808-465af49cccb2",
   "metadata": {},
   "outputs": [
    {
     "data": {
      "text/plain": [
       "array(1.)"
      ]
     },
     "execution_count": 50,
     "metadata": {},
     "output_type": "execute_result"
    }
   ],
   "source": [
    "# Test the moment method\n",
    "moment(hc).eval()"
   ]
  },
  {
   "cell_type": "markdown",
   "id": "ff7aec84-2ae8-4c92-bed5-8e5c9ca53595",
   "metadata": {},
   "source": [
    "## Test the logp method"
   ]
  },
  {
   "cell_type": "code",
   "execution_count": null,
   "id": "f327c059-8c29-44bf-b7bc-915d55e15b06",
   "metadata": {},
   "outputs": [
    {
     "data": {
      "text/plain": [
       "array([      -inf, -1.6302377])"
      ]
     },
     "execution_count": 35,
     "metadata": {},
     "output_type": "execute_result"
    }
   ],
   "source": [
    "pm.logp(hc, [-0.5, 1.5]).eval()"
   ]
  },
  {
   "cell_type": "code",
   "execution_count": 48,
   "id": "8047b8a1-b7e9-469f-b877-71cf71d4d981",
   "metadata": {},
   "outputs": [
    {
     "data": {
      "text/plain": [
       "array([      -inf, -1.6302377])"
      ]
     },
     "execution_count": 48,
     "metadata": {},
     "output_type": "execute_result"
    }
   ],
   "source": [
    "pm.logp(pm.HalfCauchy.dist(1, 1), [-0.5, 1.5]).eval()"
   ]
  },
  {
   "cell_type": "code",
   "execution_count": 46,
   "id": "4ef821bc-2770-41c2-a3ac-9c9772466761",
   "metadata": {},
   "outputs": [
    {
     "name": "stdout",
     "output_type": "stream",
     "text": [
      "-inf\n",
      "-1.6302376997264467\n"
     ]
    }
   ],
   "source": [
    "beta = pt.scalar(\"beta\")\n",
    "rv = pm.HalfCauchy.dist(beta)\n",
    "value = pt.scalar(\"value\")\n",
    "rv_logp = pm.logp(rv, value)\n",
    "print(rv_logp.eval({value: -0.5, beta: 1})) \n",
    "print(rv_logp.eval({value: 1.5, beta: 1})) "
   ]
  },
  {
   "cell_type": "code",
   "execution_count": 47,
   "id": "ca3ad6a1-9b73-4279-9db5-136eefd491d3",
   "metadata": {},
   "outputs": [
    {
     "name": "stdout",
     "output_type": "stream",
     "text": [
      "-2.0439385332046727\n",
      "-1.0439385332046727\n"
     ]
    }
   ],
   "source": [
    "import pymc as pm\n",
    "import pytensor.tensor as pt\n",
    "\n",
    "mu = pt.scalar(\"mu\")\n",
    "sigma = pt.scalar(\"sigma\")\n",
    "rv = pm.Normal.dist(mu, sigma)\n",
    "value = pt.scalar(\"value\", )\n",
    "rv_logp = pm.logp(rv, value)\n",
    "print(rv_logp.eval({value: -0.5, mu: 1, sigma: 1})) \n",
    "print(rv_logp.eval({value: 1.5, mu: 1, sigma: 1})) "
   ]
  },
  {
   "cell_type": "code",
   "execution_count": 52,
   "id": "6551fb62-1f59-45ef-81ba-51d8b80825ef",
   "metadata": {},
   "outputs": [],
   "source": [
    "# # Test the logcdf method\n",
    "# pm.logcdf(blah, [-0.5, 1.5]).eval()\n",
    "# # array([-1.17591177, -0.06914345])"
   ]
  },
  {
   "cell_type": "markdown",
   "id": "fb339c2d-a591-44e5-b26a-5c9839ae148a",
   "metadata": {},
   "source": [
    "# Custom distribution"
   ]
  },
  {
   "cell_type": "code",
   "execution_count": 160,
   "id": "46e25452-55d1-4d3e-bf0a-3819ec4b861c",
   "metadata": {},
   "outputs": [
    {
     "data": {
      "text/plain": [
       "(array([0., 1., 0.]), -1.3862943611198906)"
      ]
     },
     "execution_count": 160,
     "metadata": {},
     "output_type": "execute_result"
    }
   ],
   "source": [
    "\n",
    "# dist parameters:\n",
    "# n_samples: a vector of ints, one for each population or locus\n",
    "# model parameters:\n",
    "# split time\n",
    "# migration rate\n",
    "\n",
    "# I CAN ONLY DO TIMEHOMOGENEOUS MODELS WHERE I HAVE THE PDF..... NO becuase I compute logp from ton expectations...\n",
    "\n",
    "\n",
    "def mydist_rvs():\n",
    "    n_samples = 4\n",
    "    popgen_param1 = 0.5\n",
    "    x = list(range(1, n))\n",
    "    probs = scipy.stats.geom.pmf(x, popgen_param1)\n",
    "    p_vector = probs / probs.sum()\n",
    "    sample = np.zeros(n_samples-1)\n",
    "    draw = np.random.choice(x, 1, p=p_vector) - 1\n",
    "    sample[draw] = 1\n",
    "    return sample\n",
    "\n",
    "def mydist_logp(vec):\n",
    "    n_samples = 4    \n",
    "    popgen_param1 = 0.5\n",
    "    ton = np.argmax(vec) + 1\n",
    "    return np.log(scipy.stats.geom.pmf(ton, popgen_param1)) # should be pt.log...\n",
    "\n",
    "\n",
    "sample = mydist_rvs()\n",
    "logp = mydist_logp(sample)\n",
    "sample, logp"
   ]
  },
  {
   "cell_type": "code",
   "execution_count": 141,
   "id": "39f5a2fe-27f5-4961-abad-786156882117",
   "metadata": {},
   "outputs": [
    {
     "ename": "IndentationError",
     "evalue": "expected an indented block after function definition on line 1 (4217996490.py, line 3)",
     "output_type": "error",
     "traceback": [
      "\u001b[0;36m  Cell \u001b[0;32mIn[141], line 3\u001b[0;36m\u001b[0m\n\u001b[0;31m    fig, ax = plt.subplots(1, 1)\u001b[0m\n\u001b[0m    ^\u001b[0m\n\u001b[0;31mIndentationError\u001b[0m\u001b[0;31m:\u001b[0m expected an indented block after function definition on line 1\n"
     ]
    }
   ],
   "source": [
    "def mydist(rng, loc, scale, size):\n",
    "\n",
    "fig, ax = plt.subplots(1, 1)\n",
    "x = list(range(1, n))\n",
    "print(x)\n",
    "ax.plot(x, scipy.stats.geom.pmf(x, p), 'bo', ms=8, label='geom pmf')\n",
    "ax.vlines(x, 0, scipy.stats.geom.pmf(x, p), colors='b', lw=5, alpha=0.5) ;"
   ]
  },
  {
   "cell_type": "markdown",
   "id": "c43f54f5-2db5-43be-8e6f-7c5eaeaf3324",
   "metadata": {},
   "source": [
    "# the function should produce n-1 probabilies, one for each ton"
   ]
  },
  {
   "cell_type": "code",
   "execution_count": 102,
   "id": "14aa431e-69b4-4377-bb52-351926f67a37",
   "metadata": {},
   "outputs": [
    {
     "ename": "ValueError",
     "evalue": "Domain error in arguments. The `scale` parameter must be positive for all distributions, and many distributions have restrictions on shape parameters. Please see the `scipy.stats.geom` documentation for details.",
     "output_type": "error",
     "traceback": [
      "\u001b[0;31m---------------------------------------------------------------------------\u001b[0m",
      "\u001b[0;31mValueError\u001b[0m                                Traceback (most recent call last)",
      "Cell \u001b[0;32mIn[102], line 5\u001b[0m\n\u001b[1;32m      2\u001b[0m     \u001b[38;5;28;01mreturn\u001b[39;00m scipy\u001b[38;5;241m.\u001b[39mstats\u001b[38;5;241m.\u001b[39mgeom\u001b[38;5;241m.\u001b[39mrvs(loc, scale, random_state\u001b[38;5;241m=\u001b[39mrng, size\u001b[38;5;241m=\u001b[39msize)\n\u001b[1;32m      4\u001b[0m rng \u001b[38;5;241m=\u001b[39m np\u001b[38;5;241m.\u001b[39mrandom\u001b[38;5;241m.\u001b[39mRandomState()\n\u001b[0;32m----> 5\u001b[0m \u001b[43mmydist\u001b[49m\u001b[43m(\u001b[49m\u001b[43mrng\u001b[49m\u001b[43m,\u001b[49m\u001b[43m \u001b[49m\u001b[38;5;241;43m0\u001b[39;49m\u001b[43m,\u001b[49m\u001b[43m \u001b[49m\u001b[38;5;241;43m1\u001b[39;49m\u001b[43m,\u001b[49m\u001b[43m \u001b[49m\u001b[43msize\u001b[49m\u001b[38;5;241;43m=\u001b[39;49m\u001b[38;5;241;43m10\u001b[39;49m\u001b[43m)\u001b[49m\n",
      "Cell \u001b[0;32mIn[102], line 2\u001b[0m, in \u001b[0;36mmydist\u001b[0;34m(rng, loc, scale, size)\u001b[0m\n\u001b[1;32m      1\u001b[0m \u001b[38;5;28;01mdef\u001b[39;00m \u001b[38;5;21mmydist\u001b[39m(rng, loc, scale, size):\n\u001b[0;32m----> 2\u001b[0m     \u001b[38;5;28;01mreturn\u001b[39;00m \u001b[43mscipy\u001b[49m\u001b[38;5;241;43m.\u001b[39;49m\u001b[43mstats\u001b[49m\u001b[38;5;241;43m.\u001b[39;49m\u001b[43mgeom\u001b[49m\u001b[38;5;241;43m.\u001b[39;49m\u001b[43mrvs\u001b[49m\u001b[43m(\u001b[49m\u001b[43mloc\u001b[49m\u001b[43m,\u001b[49m\u001b[43m \u001b[49m\u001b[43mscale\u001b[49m\u001b[43m,\u001b[49m\u001b[43m \u001b[49m\u001b[43mrandom_state\u001b[49m\u001b[38;5;241;43m=\u001b[39;49m\u001b[43mrng\u001b[49m\u001b[43m,\u001b[49m\u001b[43m \u001b[49m\u001b[43msize\u001b[49m\u001b[38;5;241;43m=\u001b[39;49m\u001b[43msize\u001b[49m\u001b[43m)\u001b[49m\n",
      "File \u001b[0;32m~/miniconda3/envs/pymc/lib/python3.11/site-packages/scipy/stats/_distn_infrastructure.py:3349\u001b[0m, in \u001b[0;36mrv_discrete.rvs\u001b[0;34m(self, *args, **kwargs)\u001b[0m\n\u001b[1;32m   3320\u001b[0m \u001b[38;5;250m\u001b[39m\u001b[38;5;124;03m\"\"\"Random variates of given type.\u001b[39;00m\n\u001b[1;32m   3321\u001b[0m \n\u001b[1;32m   3322\u001b[0m \u001b[38;5;124;03mParameters\u001b[39;00m\n\u001b[0;32m   (...)\u001b[0m\n\u001b[1;32m   3346\u001b[0m \n\u001b[1;32m   3347\u001b[0m \u001b[38;5;124;03m\"\"\"\u001b[39;00m\n\u001b[1;32m   3348\u001b[0m kwargs[\u001b[38;5;124m'\u001b[39m\u001b[38;5;124mdiscrete\u001b[39m\u001b[38;5;124m'\u001b[39m] \u001b[38;5;241m=\u001b[39m \u001b[38;5;28;01mTrue\u001b[39;00m\n\u001b[0;32m-> 3349\u001b[0m \u001b[38;5;28;01mreturn\u001b[39;00m \u001b[38;5;28;43msuper\u001b[39;49m\u001b[43m(\u001b[49m\u001b[43m)\u001b[49m\u001b[38;5;241;43m.\u001b[39;49m\u001b[43mrvs\u001b[49m\u001b[43m(\u001b[49m\u001b[38;5;241;43m*\u001b[39;49m\u001b[43margs\u001b[49m\u001b[43m,\u001b[49m\u001b[43m \u001b[49m\u001b[38;5;241;43m*\u001b[39;49m\u001b[38;5;241;43m*\u001b[39;49m\u001b[43mkwargs\u001b[49m\u001b[43m)\u001b[49m\n",
      "File \u001b[0;32m~/miniconda3/envs/pymc/lib/python3.11/site-packages/scipy/stats/_distn_infrastructure.py:1057\u001b[0m, in \u001b[0;36mrv_generic.rvs\u001b[0;34m(self, *args, **kwds)\u001b[0m\n\u001b[1;32m   1051\u001b[0m \u001b[38;5;28;01mif\u001b[39;00m \u001b[38;5;129;01mnot\u001b[39;00m np\u001b[38;5;241m.\u001b[39mall(cond):\n\u001b[1;32m   1052\u001b[0m     message \u001b[38;5;241m=\u001b[39m (\u001b[38;5;124m\"\u001b[39m\u001b[38;5;124mDomain error in arguments. The `scale` parameter must \u001b[39m\u001b[38;5;124m\"\u001b[39m\n\u001b[1;32m   1053\u001b[0m                \u001b[38;5;124m\"\u001b[39m\u001b[38;5;124mbe positive for all distributions, and many \u001b[39m\u001b[38;5;124m\"\u001b[39m\n\u001b[1;32m   1054\u001b[0m                \u001b[38;5;124m\"\u001b[39m\u001b[38;5;124mdistributions have restrictions on shape parameters. \u001b[39m\u001b[38;5;124m\"\u001b[39m\n\u001b[1;32m   1055\u001b[0m                \u001b[38;5;124mf\u001b[39m\u001b[38;5;124m\"\u001b[39m\u001b[38;5;124mPlease see the `scipy.stats.\u001b[39m\u001b[38;5;132;01m{\u001b[39;00m\u001b[38;5;28mself\u001b[39m\u001b[38;5;241m.\u001b[39mname\u001b[38;5;132;01m}\u001b[39;00m\u001b[38;5;124m` \u001b[39m\u001b[38;5;124m\"\u001b[39m\n\u001b[1;32m   1056\u001b[0m                \u001b[38;5;124m\"\u001b[39m\u001b[38;5;124mdocumentation for details.\u001b[39m\u001b[38;5;124m\"\u001b[39m)\n\u001b[0;32m-> 1057\u001b[0m     \u001b[38;5;28;01mraise\u001b[39;00m \u001b[38;5;167;01mValueError\u001b[39;00m(message)\n\u001b[1;32m   1059\u001b[0m \u001b[38;5;28;01mif\u001b[39;00m np\u001b[38;5;241m.\u001b[39mall(scale \u001b[38;5;241m==\u001b[39m \u001b[38;5;241m0\u001b[39m):\n\u001b[1;32m   1060\u001b[0m     \u001b[38;5;28;01mreturn\u001b[39;00m loc\u001b[38;5;241m*\u001b[39mones(size, \u001b[38;5;124m'\u001b[39m\u001b[38;5;124md\u001b[39m\u001b[38;5;124m'\u001b[39m)\n",
      "\u001b[0;31mValueError\u001b[0m: Domain error in arguments. The `scale` parameter must be positive for all distributions, and many distributions have restrictions on shape parameters. Please see the `scipy.stats.geom` documentation for details."
     ]
    }
   ],
   "source": [
    "def mydist(rng, loc, scale, size):\n",
    "    return scipy.stats.geom.rvs(loc, scale, random_state=rng, size=size)\n",
    "\n",
    "rng = np.random.RandomState()\n",
    "mydist(rng, 0, 1, size=10)"
   ]
  },
  {
   "cell_type": "code",
   "execution_count": null,
   "id": "51214e09-764a-48c2-a224-a351e0a621c2",
   "metadata": {},
   "outputs": [],
   "source": [
    "mydist(loc, scale, rng, size=10)"
   ]
  }
 ],
 "metadata": {
  "kernelspec": {
   "display_name": "Python 3 (ipykernel)",
   "language": "python",
   "name": "python3"
  },
  "language_info": {
   "codemirror_mode": {
    "name": "ipython",
    "version": 3
   },
   "file_extension": ".py",
   "mimetype": "text/x-python",
   "name": "python",
   "nbconvert_exporter": "python",
   "pygments_lexer": "ipython3",
   "version": "3.11.8"
  }
 },
 "nbformat": 4,
 "nbformat_minor": 5
}
